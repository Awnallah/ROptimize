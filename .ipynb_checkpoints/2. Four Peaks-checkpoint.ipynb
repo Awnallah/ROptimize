{
 "cells": [
  {
   "cell_type": "code",
   "execution_count": null,
   "metadata": {
    "collapsed": true
   },
   "outputs": [],
   "source": [
    "# import mlrose\n",
    "import numpy as np\n",
    "import matplotlib.pyplot as plt\n",
    "import timeit\n",
    "# import seaborn as sns\n",
    "# plt.style.use('seaborn-whitegrid')\n",
    "import pandas as pd"
   ]
  },
  {
   "cell_type": "code",
   "execution_count": null,
   "metadata": {
    "collapsed": true
   },
   "outputs": [],
   "source": [
    "# import mlrose\n",
    "# Exp 1: length of 60\n",
    "# t_pct: 0.006\n",
    "# Exp2: lenth of 100\n",
    "# pct of 0.0001\n",
    "#Expt 3: 200 pct 0.1"
   ]
  },
  {
   "cell_type": "code",
   "execution_count": null,
   "metadata": {
    "collapsed": false
   },
   "outputs": [],
   "source": [
    "from mlroseh import mlrose"
   ]
  },
  {
   "cell_type": "code",
   "execution_count": null,
   "metadata": {
    "collapsed": true
   },
   "outputs": [],
   "source": [
    "length = 100"
   ]
  },
  {
   "cell_type": "code",
   "execution_count": null,
   "metadata": {
    "collapsed": false
   },
   "outputs": [],
   "source": [
    "fitness = mlrose.FourPeaks(t_pct=0.0001)\n",
    "state = np.random.choice([0,1],length)\n",
    "fitness.evaluate(state)"
   ]
  },
  {
   "cell_type": "code",
   "execution_count": null,
   "metadata": {
    "collapsed": true
   },
   "outputs": [],
   "source": [
    "\n",
    "# state = np.random.choice([0,1],length)\n",
    "# fitness.evaluate(state)"
   ]
  },
  {
   "cell_type": "code",
   "execution_count": null,
   "metadata": {
    "collapsed": true
   },
   "outputs": [],
   "source": [
    "problem = mlrose.DiscreteOpt(length = length, fitness_fn = fitness, maximize = True, max_val = 2)"
   ]
  },
  {
   "cell_type": "code",
   "execution_count": null,
   "metadata": {
    "collapsed": true
   },
   "outputs": [],
   "source": [
    "schedule = mlrose.ExpDecay()"
   ]
  },
  {
   "cell_type": "code",
   "execution_count": null,
   "metadata": {
    "collapsed": true
   },
   "outputs": [],
   "source": [
    "def rhc(n, title):\n",
    "    \n",
    "    \n",
    "    states, fitnesses, curves, times = [],[],[], []\n",
    "    for i in range(n):\n",
    "        start_time = timeit.default_timer()\n",
    "        best_state, best_fitness, fitness_curve = mlrose.random_hill_climb(problem, max_attempts=100,\n",
    "                                                                   max_iters=10000,\n",
    "                                                                   init_state=None, curve=True,\n",
    "                                                                   random_state=None)\n",
    "        \n",
    "        end_time = timeit.default_timer()\n",
    "        optimizing_time = end_time - start_time\n",
    "        \n",
    "        states.append(best_state)\n",
    "        fitnesses.append(best_fitness)\n",
    "\n",
    "        curves.append(fitness_curve)\n",
    "        times.append(optimizing_time)\n",
    "        \n",
    "    best = np.argmax(fitnesses)\n",
    "    print ('best argmax: ', best)\n",
    "    print ((\"best fitness: \") ,(fitnesses[best]), '  Average fitness: ', np.mean(fitnesses))\n",
    "    print(fitnesses)\n",
    "    print(\"best time :   \"+\"{:.5f}\".format(times[best]), '  Average Time: ', \"{:.5f}\".format(np.mean(times)))\n",
    "#     print('best state: ', states[best])\n",
    "    results ={'states':states,'fitnesses':fitnesses, 'curves': curves, 'times':times}\n",
    "    plt.plot(np.arange(curves[best].size),curves[best], 'o-')\n",
    "    plt.title(title)\n",
    "    plt.xlabel('Iterations')\n",
    "    plt.ylabel('fitness Value')\n",
    "    plt.show()\n",
    "        \n",
    "    return results\n",
    "        \n",
    "\n",
    "\n",
    "    "
   ]
  },
  {
   "cell_type": "code",
   "execution_count": null,
   "metadata": {
    "collapsed": false
   },
   "outputs": [],
   "source": [
    "results_rhc = rhc(n=5, title=\"random hill climbing- Four peaks\")"
   ]
  },
  {
   "cell_type": "code",
   "execution_count": null,
   "metadata": {
    "collapsed": false
   },
   "outputs": [],
   "source": [
    "fitness.evaluate(results_rhc['states'][2])"
   ]
  },
  {
   "cell_type": "code",
   "execution_count": null,
   "metadata": {
    "collapsed": true
   },
   "outputs": [],
   "source": [
    "best_state, best_fitness, fitness_curve = mlrose.random_hill_climb(problem, max_attempts=100,\n",
    "                                                                   max_iters=1000, restarts=20,\n",
    "                                                                   init_state=None, curve=True,\n",
    "                                                                   random_state=None)"
   ]
  },
  {
   "cell_type": "code",
   "execution_count": null,
   "metadata": {
    "collapsed": true
   },
   "outputs": [],
   "source": [
    "best_state, best_fitness, fitness_curve = mlrose.simulated_annealing(problem, schedule = mlrose.ArithDecay(init_temp=10, decay=0.95, min_temp=1), curve = True,\n",
    "                                                      max_attempts = 1000, max_iters = 1000,\n",
    "                                                      init_state = None)"
   ]
  },
  {
   "cell_type": "code",
   "execution_count": null,
   "metadata": {
    "collapsed": true
   },
   "outputs": [],
   "source": [
    "def sma(n, title):\n",
    "    \n",
    "    \n",
    "    states, fitnesses, curves, times = [],[],[], []\n",
    "    for i in range(n):\n",
    "        start_time = timeit.default_timer()\n",
    "        best_state, best_fitness, fitness_curve = mlrose.simulated_annealing(problem, \n",
    "                        schedule = mlrose.ExpDecay(init_temp=1, exp_const=0.005, min_temp=0.001), \n",
    "#                         schedule = mlrose.ArithDecay(),\n",
    "                        curve = True, max_attempts = 100, max_iters = 10000,\n",
    "                        init_state = None)\n",
    "        \n",
    "        end_time = timeit.default_timer()\n",
    "        optimizing_time = end_time - start_time\n",
    "        \n",
    "        states.append(best_state)\n",
    "        fitnesses.append(best_fitness)\n",
    "\n",
    "        curves.append(fitness_curve)\n",
    "        times.append(optimizing_time)\n",
    "        \n",
    "    best = np.argmax(fitnesses)\n",
    "    print ('best argmax: ', best)\n",
    "    print ((\"best fitness: \") ,(fitnesses[best]), '  Average fitness: ', np.mean(fitnesses))\n",
    "    print(fitnesses)\n",
    "    print(\"best time :   \"+\"{:.5f}\".format(times[best]), '  Average Time: ', \"{:.5f}\".format(np.mean(times)))\n",
    "#     print('best state: ', states[best])\n",
    "    results ={'states':states,'fitnesses':fitnesses, 'curves': curves, 'times':times}\n",
    "    plt.plot(np.arange(curves[best].size),curves[best], 'o-')\n",
    "    plt.title(title)\n",
    "    plt.xlabel('Iterations')\n",
    "    plt.ylabel('fitness Value')\n",
    "    plt.show()\n",
    "        \n",
    "    return results"
   ]
  },
  {
   "cell_type": "code",
   "execution_count": null,
   "metadata": {
    "collapsed": false
   },
   "outputs": [],
   "source": [
    "results_sma = sma(n=5, title=\"Simulated Annealing- Four peaks\")"
   ]
  },
  {
   "cell_type": "code",
   "execution_count": null,
   "metadata": {
    "collapsed": true
   },
   "outputs": [],
   "source": [
    "def ga(n, title):\n",
    "    \n",
    "    \n",
    "    states, fitnesses, curves, times = [],[],[], []\n",
    "    for i in range(n):\n",
    "        start_time = timeit.default_timer()\n",
    "        best_state, best_fitness, fitness_curve = mlrose.genetic_alg(problem, curve = True,\n",
    "                                                    mutation_prob=0.01,\n",
    "                                                      max_attempts = 50, max_iters = 800)\n",
    "        \n",
    "        end_time = timeit.default_timer()\n",
    "        optimizing_time = end_time - start_time\n",
    "        \n",
    "        states.append(best_state)\n",
    "        fitnesses.append(best_fitness)\n",
    "\n",
    "        curves.append(fitness_curve)\n",
    "        times.append(optimizing_time)\n",
    "        \n",
    "    best = np.argmax(fitnesses)\n",
    "    print ('best argmax: ', best)\n",
    "    print ((\"best fitness: \") ,(fitnesses[best]), '  Average fitness: ', np.mean(fitnesses))\n",
    "    print(fitnesses)\n",
    "    print(\"best time :   \"+\"{:.5f}\".format(times[best]), '  Average Time: ', \"{:.5f}\".format(np.mean(times)))\n",
    "#     print('best state: ', states[best])\n",
    "    results ={'states':states,'fitnesses':fitnesses, 'curves': curves, 'times':times}\n",
    "    plt.plot(np.arange(curves[best].size),curves[best], 'o-')\n",
    "    plt.title(title)\n",
    "    plt.xlabel('Iterations')\n",
    "    plt.ylabel('fitness Value')\n",
    "    plt.show()\n",
    "        \n",
    "    return results"
   ]
  },
  {
   "cell_type": "code",
   "execution_count": null,
   "metadata": {
    "collapsed": true
   },
   "outputs": [],
   "source": [
    "# results_ga = ga(n=2, title=\"Genetic- Four peaks\")"
   ]
  },
  {
   "cell_type": "code",
   "execution_count": null,
   "metadata": {
    "collapsed": false
   },
   "outputs": [],
   "source": [
    "results_ga = ga(n=5, title=\"Genetic- Four peaks\")"
   ]
  },
  {
   "cell_type": "code",
   "execution_count": null,
   "metadata": {
    "collapsed": true
   },
   "outputs": [],
   "source": [
    "best_state, best_fitness, fitness_curve = mlrose.mimic(problem, pop_size=500, curve = True,\n",
    "                                                      max_attempts = 100, max_iters = 1000,\n",
    "                                                       fast_mimic=True)"
   ]
  },
  {
   "cell_type": "code",
   "execution_count": null,
   "metadata": {
    "collapsed": true
   },
   "outputs": [],
   "source": [
    "def mim(n, title):\n",
    "    \n",
    "    \n",
    "    states, fitnesses, curves, times = [],[],[], []\n",
    "    for i in range(n):\n",
    "        start_time = timeit.default_timer()\n",
    "        best_state, best_fitness, fitness_curve = mlrose.mimic(problem, curve = True,\n",
    "                                                    keep_pct=.2, pop_size=500,\n",
    "                                                      max_attempts = 100, max_iters = 1000,\n",
    "                                                       fast_mimic=True)\n",
    "        \n",
    "        end_time = timeit.default_timer()\n",
    "        optimizing_time = end_time - start_time\n",
    "        \n",
    "        states.append(best_state)\n",
    "        fitnesses.append(best_fitness)\n",
    "\n",
    "        curves.append(fitness_curve)\n",
    "        times.append(optimizing_time)\n",
    "        \n",
    "    best = np.argmax(fitnesses)\n",
    "    print ('best argmax: ', best)\n",
    "    print ((\"best fitness: \") ,(fitnesses[best]), '  Average fitness: ', np.mean(fitnesses))\n",
    "    print(fitnesses)\n",
    "    print(\"best time :   \"+\"{:.5f}\".format(times[best]), '  Average Time: ', \"{:.5f}\".format(np.mean(times)))\n",
    "#     print('best state: ', states[best])\n",
    "    results ={'states':states,'fitnesses':fitnesses, 'curves': curves, 'times':times}\n",
    "    plt.plot(np.arange(curves[best].size),curves[best], 'o-')\n",
    "    plt.title(title)\n",
    "    plt.xlabel('Iterations')\n",
    "    plt.ylabel('fitness Value')\n",
    "    plt.show()\n",
    "        \n",
    "    return results"
   ]
  },
  {
   "cell_type": "code",
   "execution_count": null,
   "metadata": {
    "collapsed": false
   },
   "outputs": [],
   "source": [
    "results_mim = mim(n=5, title=\"Mimic- Four peaks\")"
   ]
  },
  {
   "cell_type": "code",
   "execution_count": null,
   "metadata": {
    "collapsed": false
   },
   "outputs": [],
   "source": [
    "print(best_fitness)"
   ]
  },
  {
   "cell_type": "code",
   "execution_count": null,
   "metadata": {
    "collapsed": false
   },
   "outputs": [],
   "source": [
    "fitness_curve"
   ]
  },
  {
   "cell_type": "code",
   "execution_count": null,
   "metadata": {
    "collapsed": true
   },
   "outputs": [],
   "source": []
  },
  {
   "cell_type": "code",
   "execution_count": null,
   "metadata": {
    "collapsed": true
   },
   "outputs": [],
   "source": []
  },
  {
   "cell_type": "code",
   "execution_count": null,
   "metadata": {
    "collapsed": true
   },
   "outputs": [],
   "source": [
    "# plt.bar(x=[6 ,4, 7 ,3, 6 ,2, 5, 1],height=[6 ,4, 7 ,3, 6 ,2, 5, 1])"
   ]
  },
  {
   "cell_type": "code",
   "execution_count": null,
   "metadata": {
    "collapsed": false
   },
   "outputs": [],
   "source": [
    "results_rhc2 = rhc(n=5, title=\"random hill climbing- Four peaks-100\")"
   ]
  },
  {
   "cell_type": "code",
   "execution_count": null,
   "metadata": {
    "collapsed": false
   },
   "outputs": [],
   "source": [
    "results_sma2 = sma(n=5, title=\"Simulated Annealing- Four peaks-100\")"
   ]
  },
  {
   "cell_type": "code",
   "execution_count": null,
   "metadata": {
    "collapsed": false
   },
   "outputs": [],
   "source": [
    "results_ga = ga(n=5, title=\"Genetic- Four peaks-100\")"
   ]
  },
  {
   "cell_type": "code",
   "execution_count": null,
   "metadata": {
    "collapsed": false
   },
   "outputs": [],
   "source": [
    "results_mim = mim(n=5, title=\"Mimic- Four peaks-100\")"
   ]
  },
  {
   "cell_type": "code",
   "execution_count": null,
   "metadata": {
    "collapsed": false
   },
   "outputs": [],
   "source": [
    "results_rhc2 = rhc(n=5, title=\"random hill climbing- Four peaks-200\")"
   ]
  },
  {
   "cell_type": "code",
   "execution_count": null,
   "metadata": {
    "collapsed": false
   },
   "outputs": [],
   "source": [
    "results_sma3 = sma(n=5, title=\"Simulated Annealing- Four peaks-200\")"
   ]
  },
  {
   "cell_type": "code",
   "execution_count": null,
   "metadata": {
    "collapsed": false
   },
   "outputs": [],
   "source": [
    "results_ga3 = ga(n=5, title=\"Genetic- Four peaks-200\")"
   ]
  },
  {
   "cell_type": "code",
   "execution_count": null,
   "metadata": {
    "collapsed": false
   },
   "outputs": [],
   "source": [
    "results_mim3 = mim(n=1, title=\"Mimic- Four peaks-200\")"
   ]
  },
  {
   "cell_type": "code",
   "execution_count": null,
   "metadata": {
    "collapsed": true
   },
   "outputs": [],
   "source": []
  }
 ],
 "metadata": {
  "kernelspec": {
   "display_name": "Python 3",
   "language": "python",
   "name": "python3"
  },
  "language_info": {
   "codemirror_mode": {
    "name": "ipython",
    "version": 3
   },
   "file_extension": ".py",
   "mimetype": "text/x-python",
   "name": "python",
   "nbconvert_exporter": "python",
   "pygments_lexer": "ipython3",
   "version": "3.5.6"
  }
 },
 "nbformat": 4,
 "nbformat_minor": 2
}
