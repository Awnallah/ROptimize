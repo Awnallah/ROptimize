{
 "cells": [
  {
   "cell_type": "code",
   "execution_count": null,
   "metadata": {
    "collapsed": true
   },
   "outputs": [],
   "source": [
    "# import mlrose\n",
    "import numpy as np\n",
    "import matplotlib.pyplot as plt\n",
    "import timeit\n",
    "# import seaborn as sns\n",
    "# plt.style.use('seaborn-whitegrid')\n",
    "import pandas as pd"
   ]
  },
  {
   "cell_type": "code",
   "execution_count": null,
   "metadata": {
    "collapsed": true
   },
   "outputs": [],
   "source": [
    "# import mlrose"
   ]
  },
  {
   "cell_type": "code",
   "execution_count": null,
   "metadata": {
    "collapsed": true
   },
   "outputs": [],
   "source": [
    "from mlroseh import mlrose"
   ]
  },
  {
   "cell_type": "code",
   "execution_count": null,
   "metadata": {
    "collapsed": true
   },
   "outputs": [],
   "source": [
    "def prod_fn(state):\n",
    "    val = 1\n",
    "    vals = []\n",
    "    for i in range(1,len(state)):\n",
    "        \n",
    "\n",
    "        if state[i] ==1:\n",
    "            if state[i]==state[i-1]:\n",
    "                val +=1\n",
    "                \n",
    "        else:\n",
    "            if val > 1:\n",
    "                vals.append(val)\n",
    "            val = 1\n",
    "            \n",
    "    if val > 1:\n",
    "        vals.append(val)\n",
    "                \n",
    "\n",
    "        \n",
    "    return np.prod(vals).astype('int')\n",
    "\n"
   ]
  },
  {
   "cell_type": "code",
   "execution_count": null,
   "metadata": {
    "collapsed": false
   },
   "outputs": [],
   "source": [
    "length = 50\n",
    "fitness = mlrose.CustomFitness(prod_fn)\n",
    "state = np.random.choice([0,1],length)\n",
    "fitness.evaluate(state)"
   ]
  },
  {
   "cell_type": "code",
   "execution_count": null,
   "metadata": {
    "collapsed": true
   },
   "outputs": [],
   "source": []
  },
  {
   "cell_type": "code",
   "execution_count": null,
   "metadata": {
    "collapsed": true
   },
   "outputs": [],
   "source": [
    "problem = mlrose.DiscreteOpt(length = length, fitness_fn = fitness, maximize = True, max_val = 2)"
   ]
  },
  {
   "cell_type": "code",
   "execution_count": null,
   "metadata": {
    "collapsed": true
   },
   "outputs": [],
   "source": [
    "schedule = mlrose.ExpDecay()"
   ]
  },
  {
   "cell_type": "code",
   "execution_count": null,
   "metadata": {
    "collapsed": true
   },
   "outputs": [],
   "source": [
    "def rhc(n, title):\n",
    "    \n",
    "    \n",
    "    states, fitnesses, curves, times = [],[],[], []\n",
    "    for i in range(n):\n",
    "        start_time = timeit.default_timer()\n",
    "        best_state, best_fitness, fitness_curve = mlrose.random_hill_climb(problem, max_attempts=100,\n",
    "                                                                   max_iters=500,\n",
    "                                                                   init_state=None, curve=True,\n",
    "                                                                   random_state=None)\n",
    "        \n",
    "        end_time = timeit.default_timer()\n",
    "        optimizing_time = end_time - start_time\n",
    "        \n",
    "        states.append(best_state)\n",
    "        fitnesses.append(best_fitness)\n",
    "\n",
    "        curves.append(fitness_curve)\n",
    "        times.append(optimizing_time)\n",
    "        \n",
    "    best = np.argmax(fitnesses)\n",
    "    print ('best argmax: ', best)\n",
    "    print ((\"best fitness: \") ,(fitnesses[best]), '  Average fitness: ', np.mean(fitnesses))\n",
    "    print(fitnesses)\n",
    "    print(\"best time :   \"+\"{:.5f}\".format(times[best]), '  Average Time: ', \"{:.5f}\".format(np.mean(times)))\n",
    "    print('Time per iteration: ', \"{:.5f}\".format(times[best]/curves[best].size))\n",
    "    results ={'states':states,'fitnesses':fitnesses, 'curves': curves, 'times':times}\n",
    "    plt.plot(np.arange(curves[best].size),curves[best], 'o-')\n",
    "    plt.title(title)\n",
    "    plt.xlabel('Iterations')\n",
    "    plt.ylabel('fitness Value')\n",
    "    plt.show()\n",
    "        \n",
    "    return results\n",
    "        \n",
    "\n",
    "\n",
    "    "
   ]
  },
  {
   "cell_type": "code",
   "execution_count": null,
   "metadata": {
    "collapsed": false
   },
   "outputs": [],
   "source": [
    "results_rhc = rhc(n=5, title=\"random hill climbing- Sums Product\")"
   ]
  },
  {
   "cell_type": "code",
   "execution_count": null,
   "metadata": {
    "collapsed": false
   },
   "outputs": [],
   "source": [
    "fitness.evaluate(results_rhc['states'][2])"
   ]
  },
  {
   "cell_type": "code",
   "execution_count": null,
   "metadata": {
    "collapsed": true
   },
   "outputs": [],
   "source": [
    "best_state, best_fitness, fitness_curve = mlrose.random_hill_climb(problem, max_attempts=100,\n",
    "                                                                   max_iters=1000, restarts=20,\n",
    "                                                                   init_state=None, curve=True,\n",
    "                                                                   random_state=None)"
   ]
  },
  {
   "cell_type": "code",
   "execution_count": null,
   "metadata": {
    "collapsed": true
   },
   "outputs": [],
   "source": [
    "best_state, best_fitness, fitness_curve = mlrose.simulated_annealing(problem, schedule = mlrose.ArithDecay(init_temp=10, decay=0.95, min_temp=1), curve = True,\n",
    "                                                      max_attempts = 1000, max_iters = 1000,\n",
    "                                                      init_state = None)"
   ]
  },
  {
   "cell_type": "code",
   "execution_count": null,
   "metadata": {
    "collapsed": true
   },
   "outputs": [],
   "source": [
    "def sma(n, title):\n",
    "    \n",
    "    \n",
    "    states, fitnesses, curves, times = [],[],[], []\n",
    "    for i in range(n):\n",
    "        start_time = timeit.default_timer()\n",
    "        best_state, best_fitness, fitness_curve = mlrose.simulated_annealing(problem, \n",
    "                                                    schedule = mlrose.ExpDecay(), \n",
    "                                                    curve = True,\n",
    "                                                      max_attempts = 1000, max_iters = 1000,\n",
    "                                                      init_state = None)\n",
    "        \n",
    "        end_time = timeit.default_timer()\n",
    "        optimizing_time = end_time - start_time\n",
    "        \n",
    "        states.append(best_state)\n",
    "        fitnesses.append(best_fitness)\n",
    "\n",
    "        curves.append(fitness_curve)\n",
    "        times.append(optimizing_time)\n",
    "        \n",
    "    best = np.argmax(fitnesses)\n",
    "    print ('best argmax: ', best)\n",
    "    print ((\"best fitness: \") ,(fitnesses[best]), '  Average fitness: ', np.mean(fitnesses))\n",
    "    print(fitnesses)\n",
    "    print(\"best time :   \"+\"{:.5f}\".format(times[best]), '  Average Time: ', \"{:.5f}\".format(np.mean(times)))\n",
    "    print(\"Time per iteration :   \"+\"{:.5f}\".format(times[best]/curves[best].size))\n",
    "    #     print('best state: ', states[best])\n",
    "    results ={'states':states,'fitnesses':fitnesses, 'curves': curves, 'times':times}\n",
    "    plt.plot(np.arange(curves[best].size),curves[best], 'o-')\n",
    "    plt.title(title)\n",
    "    plt.xlabel('Iterations')\n",
    "    plt.ylabel('fitness Value')\n",
    "    plt.show()\n",
    "        \n",
    "    return results"
   ]
  },
  {
   "cell_type": "code",
   "execution_count": null,
   "metadata": {
    "collapsed": false
   },
   "outputs": [],
   "source": [
    "results_sma = sma(n=5, title=\"Simulated Annealing- Sums Product\")"
   ]
  },
  {
   "cell_type": "code",
   "execution_count": null,
   "metadata": {
    "collapsed": true
   },
   "outputs": [],
   "source": [
    "def ga(n, title):\n",
    "    \n",
    "    \n",
    "    states, fitnesses, curves, times = [],[],[], []\n",
    "    for i in range(n):\n",
    "        start_time = timeit.default_timer()\n",
    "        best_state, best_fitness, fitness_curve = mlrose.genetic_alg(problem, curve = True,\n",
    "                                                    mutation_prob=0.01,\n",
    "                                                      max_attempts = 10, max_iters = 5000)\n",
    "        \n",
    "        end_time = timeit.default_timer()\n",
    "        optimizing_time = end_time - start_time\n",
    "        \n",
    "        states.append(best_state)\n",
    "        fitnesses.append(best_fitness)\n",
    "\n",
    "        curves.append(fitness_curve)\n",
    "        times.append(optimizing_time)\n",
    "        \n",
    "    best = np.argmax(fitnesses)\n",
    "    print ('best argmax: ', best)\n",
    "    print ((\"best fitness: \") ,(fitnesses[best]), '  Average fitness: ', np.mean(fitnesses))\n",
    "    print(fitnesses)\n",
    "    print(\"best time :   \"+\"{:.5f}\".format(times[best]), '  Average Time: ', \"{:.5f}\".format(np.mean(times)))\n",
    "    print(\"Time per iteration :   \"+\"{:.5f}\".format(times[best]/curves[best].size))\n",
    "#     print('best state: ', states[best])\n",
    "    results ={'states':states,'fitnesses':fitnesses, 'curves': curves, 'times':times}\n",
    "    plt.plot(np.arange(curves[best].size),curves[best], 'o-')\n",
    "    plt.title(title)\n",
    "    plt.xlabel('Iterations')\n",
    "    plt.ylabel('fitness Value')\n",
    "    plt.show()\n",
    "        \n",
    "    return results"
   ]
  },
  {
   "cell_type": "code",
   "execution_count": null,
   "metadata": {
    "collapsed": false
   },
   "outputs": [],
   "source": [
    "results_ga = ga(n=5, title=\"Genetic- Sums Product\")"
   ]
  },
  {
   "cell_type": "code",
   "execution_count": null,
   "metadata": {
    "collapsed": true
   },
   "outputs": [],
   "source": [
    "best_state, best_fitness, fitness_curve = mlrose.mimic(problem, pop_size=500, curve = True,\n",
    "                                                      max_attempts = 100, max_iters = 1000,\n",
    "                                                       fast_mimic=True)"
   ]
  },
  {
   "cell_type": "code",
   "execution_count": null,
   "metadata": {
    "collapsed": true
   },
   "outputs": [],
   "source": [
    "def mim(n, title):\n",
    "    \n",
    "    \n",
    "    states, fitnesses, curves, times = [],[],[], []\n",
    "    for i in range(n):\n",
    "        start_time = timeit.default_timer()\n",
    "        best_state, best_fitness, fitness_curve = mlrose.mimic(problem, curve = True,\n",
    "                                                      keep_pct=0.07,\n",
    "                                                      max_attempts = 100, max_iters = 1000,\n",
    "                                                       fast_mimic=True)\n",
    "        \n",
    "        end_time = timeit.default_timer()\n",
    "        optimizing_time = end_time - start_time\n",
    "        \n",
    "        states.append(best_state)\n",
    "        fitnesses.append(best_fitness)\n",
    "\n",
    "        curves.append(fitness_curve)\n",
    "        times.append(optimizing_time)\n",
    "        \n",
    "    best = np.argmax(fitnesses)\n",
    "    print ('best argmax: ', best)\n",
    "    print ((\"best fitness: \") ,(fitnesses[best]), '  Average fitness: ', np.mean(fitnesses))\n",
    "    print(fitnesses)\n",
    "    print(\"best time :   \"+\"{:.5f}\".format(times[best]), '  Average Time: ', \"{:.5f}\".format(np.mean(times)))\n",
    "#     print('best state: ', states[best])\n",
    "    results ={'states':states,'fitnesses':fitnesses, 'curves': curves, 'times':times}\n",
    "    plt.plot(np.arange(curves[best].size),curves[best], 'o-')\n",
    "    plt.title(title)\n",
    "    plt.xlabel('Iterations')\n",
    "    plt.ylabel('fitness Value')\n",
    "    plt.show()\n",
    "        \n",
    "    return results"
   ]
  },
  {
   "cell_type": "code",
   "execution_count": null,
   "metadata": {
    "collapsed": false
   },
   "outputs": [],
   "source": [
    "results_mim = mim(n=5, title=\"Mimic- Sums Product\")"
   ]
  },
  {
   "cell_type": "code",
   "execution_count": null,
   "metadata": {
    "collapsed": false
   },
   "outputs": [],
   "source": []
  },
  {
   "cell_type": "code",
   "execution_count": null,
   "metadata": {
    "collapsed": false
   },
   "outputs": [],
   "source": []
  },
  {
   "cell_type": "code",
   "execution_count": null,
   "metadata": {
    "collapsed": false
   },
   "outputs": [],
   "source": []
  },
  {
   "cell_type": "code",
   "execution_count": null,
   "metadata": {
    "collapsed": false
   },
   "outputs": [],
   "source": []
  },
  {
   "cell_type": "code",
   "execution_count": null,
   "metadata": {
    "collapsed": true
   },
   "outputs": [],
   "source": [
    "# plt.bar(x=[6 ,4, 7 ,3, 6 ,2, 5, 1],height=[6 ,4, 7 ,3, 6 ,2, 5, 1])"
   ]
  },
  {
   "cell_type": "code",
   "execution_count": null,
   "metadata": {
    "collapsed": true
   },
   "outputs": [],
   "source": []
  },
  {
   "cell_type": "code",
   "execution_count": null,
   "metadata": {
    "collapsed": true
   },
   "outputs": [],
   "source": []
  },
  {
   "cell_type": "code",
   "execution_count": null,
   "metadata": {
    "collapsed": true
   },
   "outputs": [],
   "source": []
  }
 ],
 "metadata": {
  "kernelspec": {
   "display_name": "Python 3",
   "language": "python",
   "name": "python3"
  },
  "language_info": {
   "codemirror_mode": {
    "name": "ipython",
    "version": 3
   },
   "file_extension": ".py",
   "mimetype": "text/x-python",
   "name": "python",
   "nbconvert_exporter": "python",
   "pygments_lexer": "ipython3",
   "version": "3.5.6"
  }
 },
 "nbformat": 4,
 "nbformat_minor": 2
}
